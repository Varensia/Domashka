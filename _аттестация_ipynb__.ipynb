{
 "cells": [
  {
   "cell_type": "markdown",
   "metadata": {
    "id": "mXOkIsa2OJWh"
   },
   "source": [
    "# Covid-19 forecasting "
   ]
  },
  {
   "cell_type": "markdown",
   "metadata": {
    "id": "1zQr-DRYOJUN"
   },
   "source": [
    "## Введение. Постановка целей и задач."
   ]
  },
  {
   "cell_type": "markdown",
   "metadata": {
    "id": "CtRMDOxfF5nh"
   },
   "source": [
    "**COVID-19 - это вызывающий заболевание штамм коронавируса, появившийся в декабре 2019 года и приведший к продолжающейся глобальной пандемии. Возможность предвидеть путь пандемии имеет решающее значение. Это важно для того, чтобы определить, как бороться, и отследить его распространение.**"
   ]
  },
  {
   "cell_type": "markdown",
   "metadata": {
    "id": "oJMIHjDLw8y8"
   },
   "source": [
    "**В рамках исследования распространения вируса на островном государстве, на примере Японии, проведем анализ данных о заболеваемости, предложим прогностическую модель и  сравним с новой статистикой**"
   ]
  },
  {
   "cell_type": "markdown",
   "metadata": {
    "id": "JhXxfyDgOJK6"
   },
   "source": [
    "## Импорт библиотек, ознакомление с данными."
   ]
  },
  {
   "cell_type": "markdown",
   "metadata": {
    "id": "fsEnvXWXUe2z"
   },
   "source": [
    "### Импорт Датафрейма, библиотек, написание функций."
   ]
  },
  {
   "cell_type": "markdown",
   "metadata": {
    "id": "otOFZm6dUexQ"
   },
   "source": [
    "В этом блоке мы импортируем все, что нам нужно для работы: библиотеки, отдельные функции, сам датасет."
   ]
  },
  {
   "cell_type": "code",
   "execution_count": 34,
   "metadata": {
    "id": "Y9HhQemGU6vC"
   },
   "outputs": [],
   "source": [
    "## Здесь импортируем библиотеки и функции \n",
    "import numpy as np\n",
    "import pandas as pd\n",
    "import matplotlib.pyplot as plt\n",
    "%matplotlib inline\n",
    "import seaborn as sns"
   ]
  },
  {
   "cell_type": "code",
   "execution_count": 7,
   "metadata": {
    "colab": {
     "base_uri": "https://localhost:8080/",
     "height": 693
    },
    "id": "Sx_GJx5XU8Zi",
    "outputId": "238e3abe-879e-4f83-9399-758aca026a4f"
   },
   "outputs": [
    {
     "data": {
      "text/html": [
       "<div>\n",
       "<style scoped>\n",
       "    .dataframe tbody tr th:only-of-type {\n",
       "        vertical-align: middle;\n",
       "    }\n",
       "\n",
       "    .dataframe tbody tr th {\n",
       "        vertical-align: top;\n",
       "    }\n",
       "\n",
       "    .dataframe thead th {\n",
       "        text-align: right;\n",
       "    }\n",
       "</style>\n",
       "<table border=\"1\" class=\"dataframe\">\n",
       "  <thead>\n",
       "    <tr style=\"text-align: right;\">\n",
       "      <th></th>\n",
       "      <th>iso_code</th>\n",
       "      <th>continent</th>\n",
       "      <th>location</th>\n",
       "      <th>total_cases</th>\n",
       "      <th>new_cases</th>\n",
       "      <th>new_cases_smoothed</th>\n",
       "      <th>total_deaths</th>\n",
       "      <th>new_deaths</th>\n",
       "      <th>new_deaths_smoothed</th>\n",
       "      <th>total_cases_per_million</th>\n",
       "      <th>...</th>\n",
       "      <th>female_smokers</th>\n",
       "      <th>male_smokers</th>\n",
       "      <th>handwashing_facilities</th>\n",
       "      <th>hospital_beds_per_thousand</th>\n",
       "      <th>life_expectancy</th>\n",
       "      <th>human_development_index</th>\n",
       "      <th>excess_mortality_cumulative_absolute</th>\n",
       "      <th>excess_mortality_cumulative</th>\n",
       "      <th>excess_mortality</th>\n",
       "      <th>excess_mortality_cumulative_per_million</th>\n",
       "    </tr>\n",
       "    <tr>\n",
       "      <th>date</th>\n",
       "      <th></th>\n",
       "      <th></th>\n",
       "      <th></th>\n",
       "      <th></th>\n",
       "      <th></th>\n",
       "      <th></th>\n",
       "      <th></th>\n",
       "      <th></th>\n",
       "      <th></th>\n",
       "      <th></th>\n",
       "      <th></th>\n",
       "      <th></th>\n",
       "      <th></th>\n",
       "      <th></th>\n",
       "      <th></th>\n",
       "      <th></th>\n",
       "      <th></th>\n",
       "      <th></th>\n",
       "      <th></th>\n",
       "      <th></th>\n",
       "      <th></th>\n",
       "    </tr>\n",
       "  </thead>\n",
       "  <tbody>\n",
       "    <tr>\n",
       "      <th>2020-02-24</th>\n",
       "      <td>AFG</td>\n",
       "      <td>Asia</td>\n",
       "      <td>Afghanistan</td>\n",
       "      <td>5.0</td>\n",
       "      <td>5.0</td>\n",
       "      <td>NaN</td>\n",
       "      <td>NaN</td>\n",
       "      <td>NaN</td>\n",
       "      <td>NaN</td>\n",
       "      <td>0.126</td>\n",
       "      <td>...</td>\n",
       "      <td>NaN</td>\n",
       "      <td>NaN</td>\n",
       "      <td>37.746</td>\n",
       "      <td>0.5</td>\n",
       "      <td>64.83</td>\n",
       "      <td>0.511</td>\n",
       "      <td>NaN</td>\n",
       "      <td>NaN</td>\n",
       "      <td>NaN</td>\n",
       "      <td>NaN</td>\n",
       "    </tr>\n",
       "    <tr>\n",
       "      <th>2020-02-25</th>\n",
       "      <td>AFG</td>\n",
       "      <td>Asia</td>\n",
       "      <td>Afghanistan</td>\n",
       "      <td>5.0</td>\n",
       "      <td>0.0</td>\n",
       "      <td>NaN</td>\n",
       "      <td>NaN</td>\n",
       "      <td>NaN</td>\n",
       "      <td>NaN</td>\n",
       "      <td>0.126</td>\n",
       "      <td>...</td>\n",
       "      <td>NaN</td>\n",
       "      <td>NaN</td>\n",
       "      <td>37.746</td>\n",
       "      <td>0.5</td>\n",
       "      <td>64.83</td>\n",
       "      <td>0.511</td>\n",
       "      <td>NaN</td>\n",
       "      <td>NaN</td>\n",
       "      <td>NaN</td>\n",
       "      <td>NaN</td>\n",
       "    </tr>\n",
       "    <tr>\n",
       "      <th>2020-02-26</th>\n",
       "      <td>AFG</td>\n",
       "      <td>Asia</td>\n",
       "      <td>Afghanistan</td>\n",
       "      <td>5.0</td>\n",
       "      <td>0.0</td>\n",
       "      <td>NaN</td>\n",
       "      <td>NaN</td>\n",
       "      <td>NaN</td>\n",
       "      <td>NaN</td>\n",
       "      <td>0.126</td>\n",
       "      <td>...</td>\n",
       "      <td>NaN</td>\n",
       "      <td>NaN</td>\n",
       "      <td>37.746</td>\n",
       "      <td>0.5</td>\n",
       "      <td>64.83</td>\n",
       "      <td>0.511</td>\n",
       "      <td>NaN</td>\n",
       "      <td>NaN</td>\n",
       "      <td>NaN</td>\n",
       "      <td>NaN</td>\n",
       "    </tr>\n",
       "    <tr>\n",
       "      <th>2020-02-27</th>\n",
       "      <td>AFG</td>\n",
       "      <td>Asia</td>\n",
       "      <td>Afghanistan</td>\n",
       "      <td>5.0</td>\n",
       "      <td>0.0</td>\n",
       "      <td>NaN</td>\n",
       "      <td>NaN</td>\n",
       "      <td>NaN</td>\n",
       "      <td>NaN</td>\n",
       "      <td>0.126</td>\n",
       "      <td>...</td>\n",
       "      <td>NaN</td>\n",
       "      <td>NaN</td>\n",
       "      <td>37.746</td>\n",
       "      <td>0.5</td>\n",
       "      <td>64.83</td>\n",
       "      <td>0.511</td>\n",
       "      <td>NaN</td>\n",
       "      <td>NaN</td>\n",
       "      <td>NaN</td>\n",
       "      <td>NaN</td>\n",
       "    </tr>\n",
       "    <tr>\n",
       "      <th>2020-02-28</th>\n",
       "      <td>AFG</td>\n",
       "      <td>Asia</td>\n",
       "      <td>Afghanistan</td>\n",
       "      <td>5.0</td>\n",
       "      <td>0.0</td>\n",
       "      <td>NaN</td>\n",
       "      <td>NaN</td>\n",
       "      <td>NaN</td>\n",
       "      <td>NaN</td>\n",
       "      <td>0.126</td>\n",
       "      <td>...</td>\n",
       "      <td>NaN</td>\n",
       "      <td>NaN</td>\n",
       "      <td>37.746</td>\n",
       "      <td>0.5</td>\n",
       "      <td>64.83</td>\n",
       "      <td>0.511</td>\n",
       "      <td>NaN</td>\n",
       "      <td>NaN</td>\n",
       "      <td>NaN</td>\n",
       "      <td>NaN</td>\n",
       "    </tr>\n",
       "    <tr>\n",
       "      <th>...</th>\n",
       "      <td>...</td>\n",
       "      <td>...</td>\n",
       "      <td>...</td>\n",
       "      <td>...</td>\n",
       "      <td>...</td>\n",
       "      <td>...</td>\n",
       "      <td>...</td>\n",
       "      <td>...</td>\n",
       "      <td>...</td>\n",
       "      <td>...</td>\n",
       "      <td>...</td>\n",
       "      <td>...</td>\n",
       "      <td>...</td>\n",
       "      <td>...</td>\n",
       "      <td>...</td>\n",
       "      <td>...</td>\n",
       "      <td>...</td>\n",
       "      <td>...</td>\n",
       "      <td>...</td>\n",
       "      <td>...</td>\n",
       "      <td>...</td>\n",
       "    </tr>\n",
       "    <tr>\n",
       "      <th>2021-12-13</th>\n",
       "      <td>ZWE</td>\n",
       "      <td>Africa</td>\n",
       "      <td>Zimbabwe</td>\n",
       "      <td>167140.0</td>\n",
       "      <td>0.0</td>\n",
       "      <td>4013.429</td>\n",
       "      <td>4738.0</td>\n",
       "      <td>0.0</td>\n",
       "      <td>4.000</td>\n",
       "      <td>11074.616</td>\n",
       "      <td>...</td>\n",
       "      <td>1.6</td>\n",
       "      <td>30.7</td>\n",
       "      <td>36.791</td>\n",
       "      <td>1.7</td>\n",
       "      <td>61.49</td>\n",
       "      <td>0.571</td>\n",
       "      <td>NaN</td>\n",
       "      <td>NaN</td>\n",
       "      <td>NaN</td>\n",
       "      <td>NaN</td>\n",
       "    </tr>\n",
       "    <tr>\n",
       "      <th>2021-12-14</th>\n",
       "      <td>ZWE</td>\n",
       "      <td>Africa</td>\n",
       "      <td>Zimbabwe</td>\n",
       "      <td>172012.0</td>\n",
       "      <td>4872.0</td>\n",
       "      <td>4344.429</td>\n",
       "      <td>4740.0</td>\n",
       "      <td>2.0</td>\n",
       "      <td>3.857</td>\n",
       "      <td>11397.432</td>\n",
       "      <td>...</td>\n",
       "      <td>1.6</td>\n",
       "      <td>30.7</td>\n",
       "      <td>36.791</td>\n",
       "      <td>1.7</td>\n",
       "      <td>61.49</td>\n",
       "      <td>0.571</td>\n",
       "      <td>NaN</td>\n",
       "      <td>NaN</td>\n",
       "      <td>NaN</td>\n",
       "      <td>NaN</td>\n",
       "    </tr>\n",
       "    <tr>\n",
       "      <th>2021-12-15</th>\n",
       "      <td>ZWE</td>\n",
       "      <td>Africa</td>\n",
       "      <td>Zimbabwe</td>\n",
       "      <td>177690.0</td>\n",
       "      <td>5678.0</td>\n",
       "      <td>3866.000</td>\n",
       "      <td>4745.0</td>\n",
       "      <td>5.0</td>\n",
       "      <td>3.571</td>\n",
       "      <td>11773.654</td>\n",
       "      <td>...</td>\n",
       "      <td>1.6</td>\n",
       "      <td>30.7</td>\n",
       "      <td>36.791</td>\n",
       "      <td>1.7</td>\n",
       "      <td>61.49</td>\n",
       "      <td>0.571</td>\n",
       "      <td>NaN</td>\n",
       "      <td>NaN</td>\n",
       "      <td>NaN</td>\n",
       "      <td>NaN</td>\n",
       "    </tr>\n",
       "    <tr>\n",
       "      <th>2021-12-16</th>\n",
       "      <td>ZWE</td>\n",
       "      <td>Africa</td>\n",
       "      <td>Zimbabwe</td>\n",
       "      <td>182057.0</td>\n",
       "      <td>4367.0</td>\n",
       "      <td>3748.571</td>\n",
       "      <td>4759.0</td>\n",
       "      <td>14.0</td>\n",
       "      <td>5.143</td>\n",
       "      <td>12063.009</td>\n",
       "      <td>...</td>\n",
       "      <td>1.6</td>\n",
       "      <td>30.7</td>\n",
       "      <td>36.791</td>\n",
       "      <td>1.7</td>\n",
       "      <td>61.49</td>\n",
       "      <td>0.571</td>\n",
       "      <td>NaN</td>\n",
       "      <td>NaN</td>\n",
       "      <td>NaN</td>\n",
       "      <td>NaN</td>\n",
       "    </tr>\n",
       "    <tr>\n",
       "      <th>2021-12-17</th>\n",
       "      <td>ZWE</td>\n",
       "      <td>Africa</td>\n",
       "      <td>Zimbabwe</td>\n",
       "      <td>189567.0</td>\n",
       "      <td>7510.0</td>\n",
       "      <td>4821.429</td>\n",
       "      <td>4779.0</td>\n",
       "      <td>20.0</td>\n",
       "      <td>8.000</td>\n",
       "      <td>12560.618</td>\n",
       "      <td>...</td>\n",
       "      <td>1.6</td>\n",
       "      <td>30.7</td>\n",
       "      <td>36.791</td>\n",
       "      <td>1.7</td>\n",
       "      <td>61.49</td>\n",
       "      <td>0.571</td>\n",
       "      <td>NaN</td>\n",
       "      <td>NaN</td>\n",
       "      <td>NaN</td>\n",
       "      <td>NaN</td>\n",
       "    </tr>\n",
       "  </tbody>\n",
       "</table>\n",
       "<p>148106 rows × 66 columns</p>\n",
       "</div>"
      ],
      "text/plain": [
       "           iso_code continent     location  total_cases  new_cases  \\\n",
       "date                                                                 \n",
       "2020-02-24      AFG      Asia  Afghanistan          5.0        5.0   \n",
       "2020-02-25      AFG      Asia  Afghanistan          5.0        0.0   \n",
       "2020-02-26      AFG      Asia  Afghanistan          5.0        0.0   \n",
       "2020-02-27      AFG      Asia  Afghanistan          5.0        0.0   \n",
       "2020-02-28      AFG      Asia  Afghanistan          5.0        0.0   \n",
       "...             ...       ...          ...          ...        ...   \n",
       "2021-12-13      ZWE    Africa     Zimbabwe     167140.0        0.0   \n",
       "2021-12-14      ZWE    Africa     Zimbabwe     172012.0     4872.0   \n",
       "2021-12-15      ZWE    Africa     Zimbabwe     177690.0     5678.0   \n",
       "2021-12-16      ZWE    Africa     Zimbabwe     182057.0     4367.0   \n",
       "2021-12-17      ZWE    Africa     Zimbabwe     189567.0     7510.0   \n",
       "\n",
       "            new_cases_smoothed  total_deaths  new_deaths  new_deaths_smoothed  \\\n",
       "date                                                                            \n",
       "2020-02-24                 NaN           NaN         NaN                  NaN   \n",
       "2020-02-25                 NaN           NaN         NaN                  NaN   \n",
       "2020-02-26                 NaN           NaN         NaN                  NaN   \n",
       "2020-02-27                 NaN           NaN         NaN                  NaN   \n",
       "2020-02-28                 NaN           NaN         NaN                  NaN   \n",
       "...                        ...           ...         ...                  ...   \n",
       "2021-12-13            4013.429        4738.0         0.0                4.000   \n",
       "2021-12-14            4344.429        4740.0         2.0                3.857   \n",
       "2021-12-15            3866.000        4745.0         5.0                3.571   \n",
       "2021-12-16            3748.571        4759.0        14.0                5.143   \n",
       "2021-12-17            4821.429        4779.0        20.0                8.000   \n",
       "\n",
       "            total_cases_per_million  ...  female_smokers  male_smokers  \\\n",
       "date                                 ...                                 \n",
       "2020-02-24                    0.126  ...             NaN           NaN   \n",
       "2020-02-25                    0.126  ...             NaN           NaN   \n",
       "2020-02-26                    0.126  ...             NaN           NaN   \n",
       "2020-02-27                    0.126  ...             NaN           NaN   \n",
       "2020-02-28                    0.126  ...             NaN           NaN   \n",
       "...                             ...  ...             ...           ...   \n",
       "2021-12-13                11074.616  ...             1.6          30.7   \n",
       "2021-12-14                11397.432  ...             1.6          30.7   \n",
       "2021-12-15                11773.654  ...             1.6          30.7   \n",
       "2021-12-16                12063.009  ...             1.6          30.7   \n",
       "2021-12-17                12560.618  ...             1.6          30.7   \n",
       "\n",
       "            handwashing_facilities  hospital_beds_per_thousand  \\\n",
       "date                                                             \n",
       "2020-02-24                  37.746                         0.5   \n",
       "2020-02-25                  37.746                         0.5   \n",
       "2020-02-26                  37.746                         0.5   \n",
       "2020-02-27                  37.746                         0.5   \n",
       "2020-02-28                  37.746                         0.5   \n",
       "...                            ...                         ...   \n",
       "2021-12-13                  36.791                         1.7   \n",
       "2021-12-14                  36.791                         1.7   \n",
       "2021-12-15                  36.791                         1.7   \n",
       "2021-12-16                  36.791                         1.7   \n",
       "2021-12-17                  36.791                         1.7   \n",
       "\n",
       "            life_expectancy  human_development_index  \\\n",
       "date                                                   \n",
       "2020-02-24            64.83                    0.511   \n",
       "2020-02-25            64.83                    0.511   \n",
       "2020-02-26            64.83                    0.511   \n",
       "2020-02-27            64.83                    0.511   \n",
       "2020-02-28            64.83                    0.511   \n",
       "...                     ...                      ...   \n",
       "2021-12-13            61.49                    0.571   \n",
       "2021-12-14            61.49                    0.571   \n",
       "2021-12-15            61.49                    0.571   \n",
       "2021-12-16            61.49                    0.571   \n",
       "2021-12-17            61.49                    0.571   \n",
       "\n",
       "            excess_mortality_cumulative_absolute  excess_mortality_cumulative  \\\n",
       "date                                                                            \n",
       "2020-02-24                                   NaN                          NaN   \n",
       "2020-02-25                                   NaN                          NaN   \n",
       "2020-02-26                                   NaN                          NaN   \n",
       "2020-02-27                                   NaN                          NaN   \n",
       "2020-02-28                                   NaN                          NaN   \n",
       "...                                          ...                          ...   \n",
       "2021-12-13                                   NaN                          NaN   \n",
       "2021-12-14                                   NaN                          NaN   \n",
       "2021-12-15                                   NaN                          NaN   \n",
       "2021-12-16                                   NaN                          NaN   \n",
       "2021-12-17                                   NaN                          NaN   \n",
       "\n",
       "            excess_mortality  excess_mortality_cumulative_per_million  \n",
       "date                                                                   \n",
       "2020-02-24               NaN                                      NaN  \n",
       "2020-02-25               NaN                                      NaN  \n",
       "2020-02-26               NaN                                      NaN  \n",
       "2020-02-27               NaN                                      NaN  \n",
       "2020-02-28               NaN                                      NaN  \n",
       "...                      ...                                      ...  \n",
       "2021-12-13               NaN                                      NaN  \n",
       "2021-12-14               NaN                                      NaN  \n",
       "2021-12-15               NaN                                      NaN  \n",
       "2021-12-16               NaN                                      NaN  \n",
       "2021-12-17               NaN                                      NaN  \n",
       "\n",
       "[148106 rows x 66 columns]"
      ]
     },
     "execution_count": 7,
     "metadata": {},
     "output_type": "execute_result"
    }
   ],
   "source": [
    "## Здесь импортируем данные.\n",
    "df = pd.read_csv('./owid-covid-data.csv', index_col='date', parse_dates = True)\n",
    "df"
   ]
  },
  {
   "cell_type": "code",
   "execution_count": null,
   "metadata": {
    "id": "Iqtl_rYgVCrb"
   },
   "outputs": [],
   "source": [
    "## Обязательно проверьте, что все выгрузилось корректно."
   ]
  },
  {
   "cell_type": "markdown",
   "metadata": {
    "id": "plIXeY2aUeuv"
   },
   "source": [
    "### Знакомство с данными."
   ]
  },
  {
   "cell_type": "markdown",
   "metadata": {
    "id": "2CFkHRlGUerR"
   },
   "source": [
    "Этот блок посвящен первоначальному знакомству с данными\n",
    "\n",
    "Наша задача - посмотреть на данные методами .info(), а также изучить их визуально.\n",
    "\n",
    "Будет удобно рассматривать определенный блок - одну страну, один месяц одной страны.\n",
    "\n",
    "Здесь же надо определиться с описанием данных - лучше всего для себя пояснить, с чем мы имеем дело. В данном случае столбцов слишком много, поэтому необходимо описать только самое важное - максимум 7-8 столбцов."
   ]
  },
  {
   "cell_type": "markdown",
   "metadata": {
    "id": "-8L1ZhXlsc4E"
   },
   "source": [
    "Как только у нас есть информация, что данные получены без ошибок, а также есть самое общее представление о содержимом, мы можем перейти к следующему пункту.."
   ]
  },
  {
   "cell_type": "code",
   "execution_count": 8,
   "metadata": {
    "colab": {
     "base_uri": "https://localhost:8080/"
    },
    "id": "Tu2u-pIphFoX",
    "outputId": "ab505ac4-43b7-4f85-a72b-78dcef86d61a"
   },
   "outputs": [
    {
     "name": "stdout",
     "output_type": "stream",
     "text": [
      "<class 'pandas.core.frame.DataFrame'>\n",
      "DatetimeIndex: 148106 entries, 2020-02-24 to 2021-12-17\n",
      "Data columns (total 66 columns):\n",
      " #   Column                                      Non-Null Count   Dtype  \n",
      "---  ------                                      --------------   -----  \n",
      " 0   iso_code                                    148106 non-null  object \n",
      " 1   continent                                   139164 non-null  object \n",
      " 2   location                                    148106 non-null  object \n",
      " 3   total_cases                                 145506 non-null  float64\n",
      " 4   new_cases                                   145500 non-null  float64\n",
      " 5   new_cases_smoothed                          144355 non-null  float64\n",
      " 6   total_deaths                                128558 non-null  float64\n",
      " 7   new_deaths                                  128754 non-null  float64\n",
      " 8   new_deaths_smoothed                         144355 non-null  float64\n",
      " 9   total_cases_per_million                     144826 non-null  float64\n",
      " 10  new_cases_per_million                       144820 non-null  float64\n",
      " 11  new_cases_smoothed_per_million              143680 non-null  float64\n",
      " 12  total_deaths_per_million                    127891 non-null  float64\n",
      " 13  new_deaths_per_million                      128087 non-null  float64\n",
      " 14  new_deaths_smoothed_per_million             143680 non-null  float64\n",
      " 15  reproduction_rate                           111455 non-null  float64\n",
      " 16  icu_patients                                17282 non-null   float64\n",
      " 17  icu_patients_per_million                    17282 non-null   float64\n",
      " 18  hosp_patients                               19742 non-null   float64\n",
      " 19  hosp_patients_per_million                   19742 non-null   float64\n",
      " 20  weekly_icu_admissions                       1344 non-null    float64\n",
      " 21  weekly_icu_admissions_per_million           1344 non-null    float64\n",
      " 22  weekly_hosp_admissions                      2236 non-null    float64\n",
      " 23  weekly_hosp_admissions_per_million          2236 non-null    float64\n",
      " 24  new_tests                                   59029 non-null   float64\n",
      " 25  total_tests                                 59184 non-null   float64\n",
      " 26  total_tests_per_thousand                    59184 non-null   float64\n",
      " 27  new_tests_per_thousand                      59029 non-null   float64\n",
      " 28  new_tests_smoothed                          71852 non-null   float64\n",
      " 29  new_tests_smoothed_per_thousand             71173 non-null   float64\n",
      " 30  positive_rate                               67063 non-null   float64\n",
      " 31  tests_per_case                              66401 non-null   float64\n",
      " 32  tests_units                                 73282 non-null   object \n",
      " 33  total_vaccinations                          37211 non-null   float64\n",
      " 34  people_vaccinated                           35698 non-null   float64\n",
      " 35  people_fully_vaccinated                     32716 non-null   float64\n",
      " 36  total_boosters                              10190 non-null   float64\n",
      " 37  new_vaccinations                            30832 non-null   float64\n",
      " 38  new_vaccinations_smoothed                   67331 non-null   float64\n",
      " 39  total_vaccinations_per_hundred              37211 non-null   float64\n",
      " 40  people_vaccinated_per_hundred               35698 non-null   float64\n",
      " 41  people_fully_vaccinated_per_hundred         32716 non-null   float64\n",
      " 42  total_boosters_per_hundred                  10190 non-null   float64\n",
      " 43  new_vaccinations_smoothed_per_million       67331 non-null   float64\n",
      " 44  new_people_vaccinated_smoothed              66193 non-null   float64\n",
      " 45  new_people_vaccinated_smoothed_per_hundred  66193 non-null   float64\n",
      " 46  stringency_index                            116092 non-null  float64\n",
      " 47  population                                  147109 non-null  float64\n",
      " 48  population_density                          131847 non-null  float64\n",
      " 49  median_age                                  123059 non-null  float64\n",
      " 50  aged_65_older                               121721 non-null  float64\n",
      " 51  aged_70_older                               122398 non-null  float64\n",
      " 52  gdp_per_capita                              123437 non-null  float64\n",
      " 53  extreme_poverty                             81509 non-null   float64\n",
      " 54  cardiovasc_death_rate                       122084 non-null  float64\n",
      " 55  diabetes_prevalence                         128335 non-null  float64\n",
      " 56  female_smokers                              94569 non-null   float64\n",
      " 57  male_smokers                                93205 non-null   float64\n",
      " 58  handwashing_facilities                      61133 non-null   float64\n",
      " 59  hospital_beds_per_thousand                  110312 non-null  float64\n",
      " 60  life_expectancy                             138215 non-null  float64\n",
      " 61  human_development_index                     121559 non-null  float64\n",
      " 62  excess_mortality_cumulative_absolute        5050 non-null    float64\n",
      " 63  excess_mortality_cumulative                 5050 non-null    float64\n",
      " 64  excess_mortality                            5050 non-null    float64\n",
      " 65  excess_mortality_cumulative_per_million     5050 non-null    float64\n",
      "dtypes: float64(62), object(4)\n",
      "memory usage: 75.7+ MB\n"
     ]
    }
   ],
   "source": [
    "df.info()"
   ]
  },
  {
   "cell_type": "markdown",
   "metadata": {
    "id": "Efv0vhWsUepF"
   },
   "source": [
    "## Предобработка данных"
   ]
  },
  {
   "cell_type": "markdown",
   "metadata": {
    "id": "pO4OjmPkuZbv"
   },
   "source": [
    "### Фильтрация данных"
   ]
  },
  {
   "cell_type": "markdown",
   "metadata": {
    "id": "9YBLWrQxuZZ3"
   },
   "source": [
    "Обычно фильтрацию данных делают позже - когда нужно непосредственно работать с данными. В нашем случае это неудобно: у нас условие, по которому мы смотрим на 1 определенную страну. Поэтому здесь нужно **вывести список стран и выбрать 1 конкретную страну**. \n",
    "\n",
    "С другой стороны, столбцов в задании также дали многовато. Поэтому на этом этапе нам нужно избавиться от всех ненужных столбцов. Чтобы понять, какие столбцы нужны - лучше всего вспомнить суть задачи. \n",
    "\n",
    "\n",
    "По итогу у нас должен остаться небольшой **датасет** с данными по 1 стране и самыми нужными столбцами."
   ]
  },
  {
   "cell_type": "code",
   "execution_count": 9,
   "metadata": {
    "colab": {
     "base_uri": "https://localhost:8080/"
    },
    "id": "sYOziJTgh0Ua",
    "outputId": "ff8e6cf2-5553-4194-fc5d-1d2564e531c4"
   },
   "outputs": [
    {
     "data": {
      "text/plain": [
       "Index(['Peru', 'Argentina', 'Mexico', 'Thailand', 'Taiwan', 'South Korea',\n",
       "       'Lower middle income', 'Asia', 'Japan', 'Upper middle income',\n",
       "       ...\n",
       "       'Sint Maarten (Dutch part)', 'Kiribati', 'Cook Islands', 'Turkmenistan',\n",
       "       'Tuvalu', 'Nauru', 'Palau', 'Tokelau', 'Pitcairn', 'Niue'],\n",
       "      dtype='object', length=238)"
      ]
     },
     "execution_count": 9,
     "metadata": {},
     "output_type": "execute_result"
    }
   ],
   "source": [
    "df.location.value_counts().index"
   ]
  },
  {
   "cell_type": "code",
   "execution_count": 23,
   "metadata": {
    "colab": {
     "base_uri": "https://localhost:8080/",
     "height": 455
    },
    "id": "tiCDX6G0AEgy",
    "outputId": "59068578-91ca-4dba-961a-9baea106b171"
   },
   "outputs": [
    {
     "data": {
      "text/html": [
       "<div>\n",
       "<style scoped>\n",
       "    .dataframe tbody tr th:only-of-type {\n",
       "        vertical-align: middle;\n",
       "    }\n",
       "\n",
       "    .dataframe tbody tr th {\n",
       "        vertical-align: top;\n",
       "    }\n",
       "\n",
       "    .dataframe thead th {\n",
       "        text-align: right;\n",
       "    }\n",
       "</style>\n",
       "<table border=\"1\" class=\"dataframe\">\n",
       "  <thead>\n",
       "    <tr style=\"text-align: right;\">\n",
       "      <th></th>\n",
       "      <th>total_cases</th>\n",
       "      <th>new_cases</th>\n",
       "      <th>total_deaths</th>\n",
       "      <th>new_deaths</th>\n",
       "      <th>population</th>\n",
       "      <th>total_tests</th>\n",
       "      <th>people_fully_vaccinated</th>\n",
       "      <th>location</th>\n",
       "    </tr>\n",
       "    <tr>\n",
       "      <th>date</th>\n",
       "      <th></th>\n",
       "      <th></th>\n",
       "      <th></th>\n",
       "      <th></th>\n",
       "      <th></th>\n",
       "      <th></th>\n",
       "      <th></th>\n",
       "      <th></th>\n",
       "    </tr>\n",
       "  </thead>\n",
       "  <tbody>\n",
       "    <tr>\n",
       "      <th>2020-01-22</th>\n",
       "      <td>2.0</td>\n",
       "      <td>NaN</td>\n",
       "      <td>NaN</td>\n",
       "      <td>NaN</td>\n",
       "      <td>126050796.0</td>\n",
       "      <td>NaN</td>\n",
       "      <td>NaN</td>\n",
       "      <td>Japan</td>\n",
       "    </tr>\n",
       "    <tr>\n",
       "      <th>2020-01-23</th>\n",
       "      <td>2.0</td>\n",
       "      <td>0.0</td>\n",
       "      <td>NaN</td>\n",
       "      <td>NaN</td>\n",
       "      <td>126050796.0</td>\n",
       "      <td>NaN</td>\n",
       "      <td>NaN</td>\n",
       "      <td>Japan</td>\n",
       "    </tr>\n",
       "    <tr>\n",
       "      <th>2020-01-24</th>\n",
       "      <td>2.0</td>\n",
       "      <td>0.0</td>\n",
       "      <td>NaN</td>\n",
       "      <td>NaN</td>\n",
       "      <td>126050796.0</td>\n",
       "      <td>NaN</td>\n",
       "      <td>NaN</td>\n",
       "      <td>Japan</td>\n",
       "    </tr>\n",
       "    <tr>\n",
       "      <th>2020-01-25</th>\n",
       "      <td>2.0</td>\n",
       "      <td>0.0</td>\n",
       "      <td>NaN</td>\n",
       "      <td>NaN</td>\n",
       "      <td>126050796.0</td>\n",
       "      <td>NaN</td>\n",
       "      <td>NaN</td>\n",
       "      <td>Japan</td>\n",
       "    </tr>\n",
       "    <tr>\n",
       "      <th>2020-01-26</th>\n",
       "      <td>4.0</td>\n",
       "      <td>2.0</td>\n",
       "      <td>NaN</td>\n",
       "      <td>NaN</td>\n",
       "      <td>126050796.0</td>\n",
       "      <td>NaN</td>\n",
       "      <td>NaN</td>\n",
       "      <td>Japan</td>\n",
       "    </tr>\n",
       "    <tr>\n",
       "      <th>...</th>\n",
       "      <td>...</td>\n",
       "      <td>...</td>\n",
       "      <td>...</td>\n",
       "      <td>...</td>\n",
       "      <td>...</td>\n",
       "      <td>...</td>\n",
       "      <td>...</td>\n",
       "      <td>...</td>\n",
       "    </tr>\n",
       "    <tr>\n",
       "      <th>2021-12-13</th>\n",
       "      <td>1728090.0</td>\n",
       "      <td>67.0</td>\n",
       "      <td>18370.0</td>\n",
       "      <td>1.0</td>\n",
       "      <td>126050796.0</td>\n",
       "      <td>27236037.0</td>\n",
       "      <td>98105016.0</td>\n",
       "      <td>Japan</td>\n",
       "    </tr>\n",
       "    <tr>\n",
       "      <th>2021-12-14</th>\n",
       "      <td>1728218.0</td>\n",
       "      <td>128.0</td>\n",
       "      <td>18371.0</td>\n",
       "      <td>1.0</td>\n",
       "      <td>126050796.0</td>\n",
       "      <td>27284620.0</td>\n",
       "      <td>98157944.0</td>\n",
       "      <td>Japan</td>\n",
       "    </tr>\n",
       "    <tr>\n",
       "      <th>2021-12-15</th>\n",
       "      <td>1728377.0</td>\n",
       "      <td>159.0</td>\n",
       "      <td>18372.0</td>\n",
       "      <td>1.0</td>\n",
       "      <td>126050796.0</td>\n",
       "      <td>27333787.0</td>\n",
       "      <td>98190145.0</td>\n",
       "      <td>Japan</td>\n",
       "    </tr>\n",
       "    <tr>\n",
       "      <th>2021-12-16</th>\n",
       "      <td>1728540.0</td>\n",
       "      <td>163.0</td>\n",
       "      <td>18375.0</td>\n",
       "      <td>3.0</td>\n",
       "      <td>126050796.0</td>\n",
       "      <td>27383971.0</td>\n",
       "      <td>98222530.0</td>\n",
       "      <td>Japan</td>\n",
       "    </tr>\n",
       "    <tr>\n",
       "      <th>2021-12-17</th>\n",
       "      <td>1728701.0</td>\n",
       "      <td>161.0</td>\n",
       "      <td>18375.0</td>\n",
       "      <td>0.0</td>\n",
       "      <td>126050796.0</td>\n",
       "      <td>NaN</td>\n",
       "      <td>NaN</td>\n",
       "      <td>Japan</td>\n",
       "    </tr>\n",
       "  </tbody>\n",
       "</table>\n",
       "<p>696 rows × 8 columns</p>\n",
       "</div>"
      ],
      "text/plain": [
       "            total_cases  new_cases  total_deaths  new_deaths   population  \\\n",
       "date                                                                        \n",
       "2020-01-22          2.0        NaN           NaN         NaN  126050796.0   \n",
       "2020-01-23          2.0        0.0           NaN         NaN  126050796.0   \n",
       "2020-01-24          2.0        0.0           NaN         NaN  126050796.0   \n",
       "2020-01-25          2.0        0.0           NaN         NaN  126050796.0   \n",
       "2020-01-26          4.0        2.0           NaN         NaN  126050796.0   \n",
       "...                 ...        ...           ...         ...          ...   \n",
       "2021-12-13    1728090.0       67.0       18370.0         1.0  126050796.0   \n",
       "2021-12-14    1728218.0      128.0       18371.0         1.0  126050796.0   \n",
       "2021-12-15    1728377.0      159.0       18372.0         1.0  126050796.0   \n",
       "2021-12-16    1728540.0      163.0       18375.0         3.0  126050796.0   \n",
       "2021-12-17    1728701.0      161.0       18375.0         0.0  126050796.0   \n",
       "\n",
       "            total_tests  people_fully_vaccinated location  \n",
       "date                                                       \n",
       "2020-01-22          NaN                      NaN    Japan  \n",
       "2020-01-23          NaN                      NaN    Japan  \n",
       "2020-01-24          NaN                      NaN    Japan  \n",
       "2020-01-25          NaN                      NaN    Japan  \n",
       "2020-01-26          NaN                      NaN    Japan  \n",
       "...                 ...                      ...      ...  \n",
       "2021-12-13   27236037.0               98105016.0    Japan  \n",
       "2021-12-14   27284620.0               98157944.0    Japan  \n",
       "2021-12-15   27333787.0               98190145.0    Japan  \n",
       "2021-12-16   27383971.0               98222530.0    Japan  \n",
       "2021-12-17          NaN                      NaN    Japan  \n",
       "\n",
       "[696 rows x 8 columns]"
      ]
     },
     "execution_count": 23,
     "metadata": {},
     "output_type": "execute_result"
    }
   ],
   "source": [
    "df_lim = df[['total_cases', 'new_cases', 'total_deaths', 'new_deaths', 'population', 'total_tests','people_fully_vaccinated','location']][df.location=='Japan']\n",
    "df_lim"
   ]
  },
  {
   "cell_type": "code",
   "execution_count": 24,
   "metadata": {
    "colab": {
     "base_uri": "https://localhost:8080/",
     "height": 319
    },
    "id": "lieE65fLhbEQ",
    "outputId": "94ac955d-a270-4c31-b0e0-082a03d59fb6"
   },
   "outputs": [
    {
     "data": {
      "text/plain": [
       "<AxesSubplot:xlabel='date'>"
      ]
     },
     "execution_count": 24,
     "metadata": {},
     "output_type": "execute_result"
    },
    {
     "data": {
      "image/png": "[encoded data removed]",
      "text/plain": [
       "<Figure size 432x288 with 1 Axes>"
      ]
     },
     "metadata": {
      "needs_background": "light"
     },
     "output_type": "display_data"
    }
   ],
   "source": [
    "df[df.location=='Japan'].total_cases.plot() #количество подтвержденных случаев в Японии за весь срок"
   ]
  },
  {
   "cell_type": "markdown",
   "metadata": {
    "id": "clnxdMqFs7Lw"
   },
   "source": [
    "### Обработка пропусков"
   ]
  },
  {
   "cell_type": "markdown",
   "metadata": {
    "id": "QrdFwQnLtc4K"
   },
   "source": [
    "В этом блоке мы должны понять - почему у нас есть пропуски. Главный вопрос - какова их природа? \n",
    "\n",
    "После того, как мы это поймем, мы можем принять решение относительно заполнения пропусков."
   ]
  },
  {
   "cell_type": "markdown",
   "metadata": {
    "id": "aXz-BRtmtc2E"
   },
   "source": [
    "Главный момент: **в рамках этого задания мы не удаляем ничего, связанного с пропусками!**\n",
    "\n",
    "Главная причина - характер работы с данными: мы работаем в этой задаче с временным промежутком, и нам важно, чтобы не было отсутствующих дат. К примеру, ситуация, когда у нас есть пропуск продолжительностью от 1 до 3 дней в середине временного промежутка, попросту неприемлима."
   ]
  },
  {
   "cell_type": "markdown",
   "metadata": {
    "id": "PsewIQW_uRTq"
   },
   "source": [
    "После обработки пропусков нам обязательно нужно проверить - всё ли в порядке. Выведите данные и проверьте заполненность. Зафиксируйте то, что пропусков больше нет."
   ]
  },
  {
   "cell_type": "code",
   "execution_count": 25,
   "metadata": {
    "colab": {
     "base_uri": "https://localhost:8080/",
     "height": 455
    },
    "id": "Wzs4RV6UCI0S",
    "outputId": "c5b587e0-bdfa-4208-c90a-918a3dfe0832"
   },
   "outputs": [
    {
     "data": {
      "text/html": [
       "<div>\n",
       "<style scoped>\n",
       "    .dataframe tbody tr th:only-of-type {\n",
       "        vertical-align: middle;\n",
       "    }\n",
       "\n",
       "    .dataframe tbody tr th {\n",
       "        vertical-align: top;\n",
       "    }\n",
       "\n",
       "    .dataframe thead th {\n",
       "        text-align: right;\n",
       "    }\n",
       "</style>\n",
       "<table border=\"1\" class=\"dataframe\">\n",
       "  <thead>\n",
       "    <tr style=\"text-align: right;\">\n",
       "      <th></th>\n",
       "      <th>total_cases</th>\n",
       "      <th>new_cases</th>\n",
       "      <th>total_deaths</th>\n",
       "      <th>new_deaths</th>\n",
       "      <th>population</th>\n",
       "      <th>total_tests</th>\n",
       "      <th>people_fully_vaccinated</th>\n",
       "      <th>location</th>\n",
       "    </tr>\n",
       "    <tr>\n",
       "      <th>date</th>\n",
       "      <th></th>\n",
       "      <th></th>\n",
       "      <th></th>\n",
       "      <th></th>\n",
       "      <th></th>\n",
       "      <th></th>\n",
       "      <th></th>\n",
       "      <th></th>\n",
       "    </tr>\n",
       "  </thead>\n",
       "  <tbody>\n",
       "    <tr>\n",
       "      <th>2020-01-22</th>\n",
       "      <td>False</td>\n",
       "      <td>True</td>\n",
       "      <td>True</td>\n",
       "      <td>True</td>\n",
       "      <td>False</td>\n",
       "      <td>True</td>\n",
       "      <td>True</td>\n",
       "      <td>False</td>\n",
       "    </tr>\n",
       "    <tr>\n",
       "      <th>2020-01-23</th>\n",
       "      <td>False</td>\n",
       "      <td>False</td>\n",
       "      <td>True</td>\n",
       "      <td>True</td>\n",
       "      <td>False</td>\n",
       "      <td>True</td>\n",
       "      <td>True</td>\n",
       "      <td>False</td>\n",
       "    </tr>\n",
       "    <tr>\n",
       "      <th>2020-01-24</th>\n",
       "      <td>False</td>\n",
       "      <td>False</td>\n",
       "      <td>True</td>\n",
       "      <td>True</td>\n",
       "      <td>False</td>\n",
       "      <td>True</td>\n",
       "      <td>True</td>\n",
       "      <td>False</td>\n",
       "    </tr>\n",
       "    <tr>\n",
       "      <th>2020-01-25</th>\n",
       "      <td>False</td>\n",
       "      <td>False</td>\n",
       "      <td>True</td>\n",
       "      <td>True</td>\n",
       "      <td>False</td>\n",
       "      <td>True</td>\n",
       "      <td>True</td>\n",
       "      <td>False</td>\n",
       "    </tr>\n",
       "    <tr>\n",
       "      <th>2020-01-26</th>\n",
       "      <td>False</td>\n",
       "      <td>False</td>\n",
       "      <td>True</td>\n",
       "      <td>True</td>\n",
       "      <td>False</td>\n",
       "      <td>True</td>\n",
       "      <td>True</td>\n",
       "      <td>False</td>\n",
       "    </tr>\n",
       "    <tr>\n",
       "      <th>...</th>\n",
       "      <td>...</td>\n",
       "      <td>...</td>\n",
       "      <td>...</td>\n",
       "      <td>...</td>\n",
       "      <td>...</td>\n",
       "      <td>...</td>\n",
       "      <td>...</td>\n",
       "      <td>...</td>\n",
       "    </tr>\n",
       "    <tr>\n",
       "      <th>2021-12-13</th>\n",
       "      <td>False</td>\n",
       "      <td>False</td>\n",
       "      <td>False</td>\n",
       "      <td>False</td>\n",
       "      <td>False</td>\n",
       "      <td>False</td>\n",
       "      <td>False</td>\n",
       "      <td>False</td>\n",
       "    </tr>\n",
       "    <tr>\n",
       "      <th>2021-12-14</th>\n",
       "      <td>False</td>\n",
       "      <td>False</td>\n",
       "      <td>False</td>\n",
       "      <td>False</td>\n",
       "      <td>False</td>\n",
       "      <td>False</td>\n",
       "      <td>False</td>\n",
       "      <td>False</td>\n",
       "    </tr>\n",
       "    <tr>\n",
       "      <th>2021-12-15</th>\n",
       "      <td>False</td>\n",
       "      <td>False</td>\n",
       "      <td>False</td>\n",
       "      <td>False</td>\n",
       "      <td>False</td>\n",
       "      <td>False</td>\n",
       "      <td>False</td>\n",
       "      <td>False</td>\n",
       "    </tr>\n",
       "    <tr>\n",
       "      <th>2021-12-16</th>\n",
       "      <td>False</td>\n",
       "      <td>False</td>\n",
       "      <td>False</td>\n",
       "      <td>False</td>\n",
       "      <td>False</td>\n",
       "      <td>False</td>\n",
       "      <td>False</td>\n",
       "      <td>False</td>\n",
       "    </tr>\n",
       "    <tr>\n",
       "      <th>2021-12-17</th>\n",
       "      <td>False</td>\n",
       "      <td>False</td>\n",
       "      <td>False</td>\n",
       "      <td>False</td>\n",
       "      <td>False</td>\n",
       "      <td>True</td>\n",
       "      <td>True</td>\n",
       "      <td>False</td>\n",
       "    </tr>\n",
       "  </tbody>\n",
       "</table>\n",
       "<p>696 rows × 8 columns</p>\n",
       "</div>"
      ],
      "text/plain": [
       "            total_cases  new_cases  total_deaths  new_deaths  population  \\\n",
       "date                                                                       \n",
       "2020-01-22        False       True          True        True       False   \n",
       "2020-01-23        False      False          True        True       False   \n",
       "2020-01-24        False      False          True        True       False   \n",
       "2020-01-25        False      False          True        True       False   \n",
       "2020-01-26        False      False          True        True       False   \n",
       "...                 ...        ...           ...         ...         ...   \n",
       "2021-12-13        False      False         False       False       False   \n",
       "2021-12-14        False      False         False       False       False   \n",
       "2021-12-15        False      False         False       False       False   \n",
       "2021-12-16        False      False         False       False       False   \n",
       "2021-12-17        False      False         False       False       False   \n",
       "\n",
       "            total_tests  people_fully_vaccinated  location  \n",
       "date                                                        \n",
       "2020-01-22         True                     True     False  \n",
       "2020-01-23         True                     True     False  \n",
       "2020-01-24         True                     True     False  \n",
       "2020-01-25         True                     True     False  \n",
       "2020-01-26         True                     True     False  \n",
       "...                 ...                      ...       ...  \n",
       "2021-12-13        False                    False     False  \n",
       "2021-12-14        False                    False     False  \n",
       "2021-12-15        False                    False     False  \n",
       "2021-12-16        False                    False     False  \n",
       "2021-12-17         True                     True     False  \n",
       "\n",
       "[696 rows x 8 columns]"
      ]
     },
     "execution_count": 25,
     "metadata": {},
     "output_type": "execute_result"
    }
   ],
   "source": [
    "df_lim.isnull() #проверим, где в данных есть пропуски "
   ]
  },
  {
   "cell_type": "code",
   "execution_count": 26,
   "metadata": {
    "colab": {
     "base_uri": "https://localhost:8080/",
     "height": 183
    },
    "id": "HJTLEvaqpTRE",
    "outputId": "e0be84b8-94c8-4da1-fec5-6a6290266506"
   },
   "outputs": [
    {
     "data": {
      "text/html": [
       "<div>\n",
       "<style scoped>\n",
       "    .dataframe tbody tr th:only-of-type {\n",
       "        vertical-align: middle;\n",
       "    }\n",
       "\n",
       "    .dataframe tbody tr th {\n",
       "        vertical-align: top;\n",
       "    }\n",
       "\n",
       "    .dataframe thead th {\n",
       "        text-align: right;\n",
       "    }\n",
       "</style>\n",
       "<table border=\"1\" class=\"dataframe\">\n",
       "  <thead>\n",
       "    <tr style=\"text-align: right;\">\n",
       "      <th></th>\n",
       "      <th>total_cases</th>\n",
       "      <th>new_cases</th>\n",
       "      <th>total_deaths</th>\n",
       "      <th>new_deaths</th>\n",
       "      <th>population</th>\n",
       "      <th>total_tests</th>\n",
       "      <th>people_fully_vaccinated</th>\n",
       "      <th>location</th>\n",
       "    </tr>\n",
       "    <tr>\n",
       "      <th>date</th>\n",
       "      <th></th>\n",
       "      <th></th>\n",
       "      <th></th>\n",
       "      <th></th>\n",
       "      <th></th>\n",
       "      <th></th>\n",
       "      <th></th>\n",
       "      <th></th>\n",
       "    </tr>\n",
       "  </thead>\n",
       "  <tbody>\n",
       "    <tr>\n",
       "      <th>2020-01-22</th>\n",
       "      <td>2.0</td>\n",
       "      <td>NaN</td>\n",
       "      <td>NaN</td>\n",
       "      <td>NaN</td>\n",
       "      <td>126050796.0</td>\n",
       "      <td>NaN</td>\n",
       "      <td>NaN</td>\n",
       "      <td>Japan</td>\n",
       "    </tr>\n",
       "    <tr>\n",
       "      <th>2020-01-23</th>\n",
       "      <td>2.0</td>\n",
       "      <td>0.0</td>\n",
       "      <td>NaN</td>\n",
       "      <td>NaN</td>\n",
       "      <td>126050796.0</td>\n",
       "      <td>NaN</td>\n",
       "      <td>NaN</td>\n",
       "      <td>Japan</td>\n",
       "    </tr>\n",
       "    <tr>\n",
       "      <th>2020-01-24</th>\n",
       "      <td>2.0</td>\n",
       "      <td>0.0</td>\n",
       "      <td>NaN</td>\n",
       "      <td>NaN</td>\n",
       "      <td>126050796.0</td>\n",
       "      <td>NaN</td>\n",
       "      <td>NaN</td>\n",
       "      <td>Japan</td>\n",
       "    </tr>\n",
       "    <tr>\n",
       "      <th>2020-01-25</th>\n",
       "      <td>2.0</td>\n",
       "      <td>0.0</td>\n",
       "      <td>NaN</td>\n",
       "      <td>NaN</td>\n",
       "      <td>126050796.0</td>\n",
       "      <td>NaN</td>\n",
       "      <td>NaN</td>\n",
       "      <td>Japan</td>\n",
       "    </tr>\n",
       "    <tr>\n",
       "      <th>2020-01-26</th>\n",
       "      <td>4.0</td>\n",
       "      <td>2.0</td>\n",
       "      <td>NaN</td>\n",
       "      <td>NaN</td>\n",
       "      <td>126050796.0</td>\n",
       "      <td>NaN</td>\n",
       "      <td>NaN</td>\n",
       "      <td>Japan</td>\n",
       "    </tr>\n",
       "    <tr>\n",
       "      <th>...</th>\n",
       "      <td>...</td>\n",
       "      <td>...</td>\n",
       "      <td>...</td>\n",
       "      <td>...</td>\n",
       "      <td>...</td>\n",
       "      <td>...</td>\n",
       "      <td>...</td>\n",
       "      <td>...</td>\n",
       "    </tr>\n",
       "    <tr>\n",
       "      <th>2021-12-13</th>\n",
       "      <td>1728090.0</td>\n",
       "      <td>67.0</td>\n",
       "      <td>18370.0</td>\n",
       "      <td>1.0</td>\n",
       "      <td>126050796.0</td>\n",
       "      <td>27236037.0</td>\n",
       "      <td>98105016.0</td>\n",
       "      <td>Japan</td>\n",
       "    </tr>\n",
       "    <tr>\n",
       "      <th>2021-12-14</th>\n",
       "      <td>1728218.0</td>\n",
       "      <td>128.0</td>\n",
       "      <td>18371.0</td>\n",
       "      <td>1.0</td>\n",
       "      <td>126050796.0</td>\n",
       "      <td>27284620.0</td>\n",
       "      <td>98157944.0</td>\n",
       "      <td>Japan</td>\n",
       "    </tr>\n",
       "    <tr>\n",
       "      <th>2021-12-15</th>\n",
       "      <td>1728377.0</td>\n",
       "      <td>159.0</td>\n",
       "      <td>18372.0</td>\n",
       "      <td>1.0</td>\n",
       "      <td>126050796.0</td>\n",
       "      <td>27333787.0</td>\n",
       "      <td>98190145.0</td>\n",
       "      <td>Japan</td>\n",
       "    </tr>\n",
       "    <tr>\n",
       "      <th>2021-12-16</th>\n",
       "      <td>1728540.0</td>\n",
       "      <td>163.0</td>\n",
       "      <td>18375.0</td>\n",
       "      <td>3.0</td>\n",
       "      <td>126050796.0</td>\n",
       "      <td>27383971.0</td>\n",
       "      <td>98222530.0</td>\n",
       "      <td>Japan</td>\n",
       "    </tr>\n",
       "    <tr>\n",
       "      <th>2021-12-17</th>\n",
       "      <td>1728701.0</td>\n",
       "      <td>161.0</td>\n",
       "      <td>18375.0</td>\n",
       "      <td>0.0</td>\n",
       "      <td>126050796.0</td>\n",
       "      <td>NaN</td>\n",
       "      <td>NaN</td>\n",
       "      <td>Japan</td>\n",
       "    </tr>\n",
       "  </tbody>\n",
       "</table>\n",
       "<p>696 rows × 8 columns</p>\n",
       "</div>"
      ],
      "text/plain": [
       "            total_cases  new_cases  total_deaths  new_deaths   population  \\\n",
       "date                                                                        \n",
       "2020-01-22          2.0        NaN           NaN         NaN  126050796.0   \n",
       "2020-01-23          2.0        0.0           NaN         NaN  126050796.0   \n",
       "2020-01-24          2.0        0.0           NaN         NaN  126050796.0   \n",
       "2020-01-25          2.0        0.0           NaN         NaN  126050796.0   \n",
       "2020-01-26          4.0        2.0           NaN         NaN  126050796.0   \n",
       "...                 ...        ...           ...         ...          ...   \n",
       "2021-12-13    1728090.0       67.0       18370.0         1.0  126050796.0   \n",
       "2021-12-14    1728218.0      128.0       18371.0         1.0  126050796.0   \n",
       "2021-12-15    1728377.0      159.0       18372.0         1.0  126050796.0   \n",
       "2021-12-16    1728540.0      163.0       18375.0         3.0  126050796.0   \n",
       "2021-12-17    1728701.0      161.0       18375.0         0.0  126050796.0   \n",
       "\n",
       "            total_tests  people_fully_vaccinated location  \n",
       "date                                                       \n",
       "2020-01-22          NaN                      NaN    Japan  \n",
       "2020-01-23          NaN                      NaN    Japan  \n",
       "2020-01-24          NaN                      NaN    Japan  \n",
       "2020-01-25          NaN                      NaN    Japan  \n",
       "2020-01-26          NaN                      NaN    Japan  \n",
       "...                 ...                      ...      ...  \n",
       "2021-12-13   27236037.0               98105016.0    Japan  \n",
       "2021-12-14   27284620.0               98157944.0    Japan  \n",
       "2021-12-15   27333787.0               98190145.0    Japan  \n",
       "2021-12-16   27383971.0               98222530.0    Japan  \n",
       "2021-12-17          NaN                      NaN    Japan  \n",
       "\n",
       "[696 rows x 8 columns]"
      ]
     },
     "execution_count": 26,
     "metadata": {},
     "output_type": "execute_result"
    }
   ],
   "source": [
    "#df_lim.fillna (0.0, inplace = True)\n",
    "#df_lim.fillna(df_lim.mean(), inplace = True)\n",
    "df_lim"
   ]
  },
  {
   "cell_type": "markdown",
   "metadata": {
    "id": "q8gTgMtTVpYE"
   },
   "source": [
    "### Вывод по этапу.\n"
   ]
  },
  {
   "cell_type": "markdown",
   "metadata": {
    "id": "dxNx7ZCA1FrO"
   },
   "source": []
  },
  {
   "cell_type": "markdown",
   "metadata": {
    "id": "ychutOlHtcz_"
   },
   "source": [
    "## EDA или разведочный анализ данных."
   ]
  },
  {
   "cell_type": "markdown",
   "metadata": {
    "id": "u_-__QdXtcxv"
   },
   "source": [
    "В данном блоке наша задача - познакомиться \"поближе\" с данными, которыми мы располагаем.\n",
    "\n",
    "Что лучше всего сделать:    \n",
    "- Сделать столбец с датами индексом;\n",
    "- Вывести статистику по нужным столбцам;\n",
    "- Построить графическое отображение столбцов;\n",
    "- Попробовать определить - есть ли столбцы, которые мы можем отфильтровать (к примеру, самые ранние записи, где информации могло не быть и где были NaN). **- такого может и не быть**\n",
    "\n",
    "\n",
    "Проделав действия выше, мы выполним минимум, необходимый для дальнейшей работы. \n",
    "\n",
    "Помимо этой информации, здесь же нужно всесторонне познакомиться с рассматриваемыми данными в контексте процесса/явления:    \n",
    "- С чем связан рост или падение метрики в столбце? (почему заболеваемость может расти или падать)\n",
    "- Как можно охарактеризовать зависимость по метрике? \n",
    "\n",
    "Хорошо здесь описать всё, что влияет на метрику, и что может нам помочь определить следующее: можем ли мы достоверно предсказать рост или падение метрики на основании одной переменной? Или здесь нужны методы посложнее, с большим числом входных данных и зависимостей?\n",
    "\n",
    "Отвечайте на вопросы честно! "
   ]
  },
  {
   "cell_type": "code",
   "execution_count": 27,
   "metadata": {},
   "outputs": [
    {
     "data": {
      "text/html": [
       "<div>\n",
       "<style scoped>\n",
       "    .dataframe tbody tr th:only-of-type {\n",
       "        vertical-align: middle;\n",
       "    }\n",
       "\n",
       "    .dataframe tbody tr th {\n",
       "        vertical-align: top;\n",
       "    }\n",
       "\n",
       "    .dataframe thead th {\n",
       "        text-align: right;\n",
       "    }\n",
       "</style>\n",
       "<table border=\"1\" class=\"dataframe\">\n",
       "  <thead>\n",
       "    <tr style=\"text-align: right;\">\n",
       "      <th></th>\n",
       "      <th>total_cases</th>\n",
       "      <th>new_cases</th>\n",
       "      <th>total_deaths</th>\n",
       "      <th>new_deaths</th>\n",
       "      <th>population</th>\n",
       "      <th>total_tests</th>\n",
       "      <th>people_fully_vaccinated</th>\n",
       "    </tr>\n",
       "  </thead>\n",
       "  <tbody>\n",
       "    <tr>\n",
       "      <th>count</th>\n",
       "      <td>6.960000e+02</td>\n",
       "      <td>695.000000</td>\n",
       "      <td>674.000000</td>\n",
       "      <td>674.000000</td>\n",
       "      <td>696.0</td>\n",
       "      <td>6.780000e+02</td>\n",
       "      <td>2.220000e+02</td>\n",
       "    </tr>\n",
       "    <tr>\n",
       "      <th>mean</th>\n",
       "      <td>5.185998e+05</td>\n",
       "      <td>2487.336691</td>\n",
       "      <td>7296.695846</td>\n",
       "      <td>27.262611</td>\n",
       "      <td>126050796.0</td>\n",
       "      <td>8.721297e+06</td>\n",
       "      <td>3.582375e+07</td>\n",
       "    </tr>\n",
       "    <tr>\n",
       "      <th>std</th>\n",
       "      <td>5.996171e+05</td>\n",
       "      <td>4301.267772</td>\n",
       "      <td>6794.658524</td>\n",
       "      <td>30.200925</td>\n",
       "      <td>0.0</td>\n",
       "      <td>8.972467e+06</td>\n",
       "      <td>3.606433e+07</td>\n",
       "    </tr>\n",
       "    <tr>\n",
       "      <th>min</th>\n",
       "      <td>2.000000e+00</td>\n",
       "      <td>0.000000</td>\n",
       "      <td>1.000000</td>\n",
       "      <td>0.000000</td>\n",
       "      <td>126050796.0</td>\n",
       "      <td>4.000000e+00</td>\n",
       "      <td>3.500000e+01</td>\n",
       "    </tr>\n",
       "    <tr>\n",
       "      <th>25%</th>\n",
       "      <td>2.233575e+04</td>\n",
       "      <td>203.500000</td>\n",
       "      <td>1008.500000</td>\n",
       "      <td>4.250000</td>\n",
       "      <td>126050796.0</td>\n",
       "      <td>6.124485e+05</td>\n",
       "      <td>1.916580e+06</td>\n",
       "    </tr>\n",
       "    <tr>\n",
       "      <th>50%</th>\n",
       "      <td>2.469135e+05</td>\n",
       "      <td>950.000000</td>\n",
       "      <td>4381.000000</td>\n",
       "      <td>14.000000</td>\n",
       "      <td>126050796.0</td>\n",
       "      <td>5.055346e+06</td>\n",
       "      <td>2.322746e+07</td>\n",
       "    </tr>\n",
       "    <tr>\n",
       "      <th>75%</th>\n",
       "      <td>7.944205e+05</td>\n",
       "      <td>2684.500000</td>\n",
       "      <td>14825.750000</td>\n",
       "      <td>45.000000</td>\n",
       "      <td>126050796.0</td>\n",
       "      <td>1.563214e+07</td>\n",
       "      <td>6.959187e+07</td>\n",
       "    </tr>\n",
       "    <tr>\n",
       "      <th>max</th>\n",
       "      <td>1.728701e+06</td>\n",
       "      <td>25992.000000</td>\n",
       "      <td>18375.000000</td>\n",
       "      <td>216.000000</td>\n",
       "      <td>126050796.0</td>\n",
       "      <td>2.738397e+07</td>\n",
       "      <td>9.822253e+07</td>\n",
       "    </tr>\n",
       "  </tbody>\n",
       "</table>\n",
       "</div>"
      ],
      "text/plain": [
       "        total_cases     new_cases  total_deaths  new_deaths   population  \\\n",
       "count  6.960000e+02    695.000000    674.000000  674.000000        696.0   \n",
       "mean   5.185998e+05   2487.336691   7296.695846   27.262611  126050796.0   \n",
       "std    5.996171e+05   4301.267772   6794.658524   30.200925          0.0   \n",
       "min    2.000000e+00      0.000000      1.000000    0.000000  126050796.0   \n",
       "25%    2.233575e+04    203.500000   1008.500000    4.250000  126050796.0   \n",
       "50%    2.469135e+05    950.000000   4381.000000   14.000000  126050796.0   \n",
       "75%    7.944205e+05   2684.500000  14825.750000   45.000000  126050796.0   \n",
       "max    1.728701e+06  25992.000000  18375.000000  216.000000  126050796.0   \n",
       "\n",
       "        total_tests  people_fully_vaccinated  \n",
       "count  6.780000e+02             2.220000e+02  \n",
       "mean   8.721297e+06             3.582375e+07  \n",
       "std    8.972467e+06             3.606433e+07  \n",
       "min    4.000000e+00             3.500000e+01  \n",
       "25%    6.124485e+05             1.916580e+06  \n",
       "50%    5.055346e+06             2.322746e+07  \n",
       "75%    1.563214e+07             6.959187e+07  \n",
       "max    2.738397e+07             9.822253e+07  "
      ]
     },
     "execution_count": 27,
     "metadata": {},
     "output_type": "execute_result"
    }
   ],
   "source": [
    "df_lim.describe() #статистика по столбцам"
   ]
  },
  {
   "cell_type": "code",
   "execution_count": 35,
   "metadata": {},
   "outputs": [
    {
     "data": {
      "text/plain": [
       "<AxesSubplot:xlabel='date'>"
      ]
     },
     "execution_count": 35,
     "metadata": {},
     "output_type": "execute_result"
    },
    {
     "data": {
      "image/png": "[encoded data removed]",
      "text/plain": [
       "<Figure size 432x288 with 1 Axes>"
      ]
     },
     "metadata": {
      "needs_background": "light"
     },
     "output_type": "display_data"
    }
   ],
   "source": [
    "df_lim.total_cases.plot()"
   ]
  },
  {
   "cell_type": "code",
   "execution_count": 36,
   "metadata": {},
   "outputs": [
    {
     "data": {
      "text/plain": [
       "<AxesSubplot:xlabel='date'>"
      ]
     },
     "execution_count": 36,
     "metadata": {},
     "output_type": "execute_result"
    },
    {
     "data": {
      "image/png": "[encoded data removed]",
      "text/plain": [
       "<Figure size 432x288 with 1 Axes>"
      ]
     },
     "metadata": {
      "needs_background": "light"
     },
     "output_type": "display_data"
    }
   ],
   "source": [
    "df_lim.new_cases.plot()"
   ]
  },
  {
   "cell_type": "code",
   "execution_count": 37,
   "metadata": {},
   "outputs": [
    {
     "data": {
      "text/plain": [
       "<AxesSubplot:xlabel='date'>"
      ]
     },
     "execution_count": 37,
     "metadata": {},
     "output_type": "execute_result"
    },
    {
     "data": {
      "image/png": "[encoded data removed]",
      "text/plain": [
       "<Figure size 432x288 with 1 Axes>"
      ]
     },
     "metadata": {
      "needs_background": "light"
     },
     "output_type": "display_data"
    }
   ],
   "source": [
    "df_lim.total_deaths.plot()"
   ]
  },
  {
   "cell_type": "code",
   "execution_count": 38,
   "metadata": {},
   "outputs": [
    {
     "data": {
      "text/plain": [
       "<AxesSubplot:xlabel='date'>"
      ]
     },
     "execution_count": 38,
     "metadata": {},
     "output_type": "execute_result"
    },
    {
     "data": {
      "image/png": "[encoded data removed]",
      "text/plain": [
       "<Figure size 432x288 with 1 Axes>"
      ]
     },
     "metadata": {
      "needs_background": "light"
     },
     "output_type": "display_data"
    }
   ],
   "source": [
    "df_lim.new_deaths.plot()"
   ]
  },
  {
   "cell_type": "code",
   "execution_count": 39,
   "metadata": {},
   "outputs": [
    {
     "data": {
      "text/plain": [
       "<AxesSubplot:xlabel='date'>"
      ]
     },
     "execution_count": 39,
     "metadata": {},
     "output_type": "execute_result"
    },
    {
     "data": {
      "image/png": "[encoded data removed]",
      "text/plain": [
       "<Figure size 432x288 with 1 Axes>"
      ]
     },
     "metadata": {
      "needs_background": "light"
     },
     "output_type": "display_data"
    }
   ],
   "source": [
    "df_lim.total_tests.plot()"
   ]
  },
  {
   "cell_type": "code",
   "execution_count": 40,
   "metadata": {},
   "outputs": [
    {
     "data": {
      "text/plain": [
       "<AxesSubplot:xlabel='date'>"
      ]
     },
     "execution_count": 40,
     "metadata": {},
     "output_type": "execute_result"
    },
    {
     "data": {
      "image/png": "[encoded data removed]",
      "text/plain": [
       "<Figure size 432x288 with 1 Axes>"
      ]
     },
     "metadata": {
      "needs_background": "light"
     },
     "output_type": "display_data"
    }
   ],
   "source": [
    "df_lim.people_fully_vaccinated.plot()"
   ]
  },
  {
   "cell_type": "markdown",
   "metadata": {
    "id": "KM8Op5eGtcvq"
   },
   "source": [
    "Как только мы поняли, что описанной информации достаточно - можно перейти к следующему пункту."
   ]
  },
  {
   "cell_type": "markdown",
   "metadata": {
    "id": "v5F1qQuCtctd"
   },
   "source": [
    "## Построение моделей, анализ результатов."
   ]
  },
  {
   "cell_type": "markdown",
   "metadata": {
    "id": "I3XRqO2002t7"
   },
   "source": [
    "Данный блок содержит в себе решение поставленной задачи.\n",
    "\n",
    "В прошлых блоках мы убедились в целостности данных, их логичности, а также в том, что мы понимаем, с чем мы имеем дело. \n",
    "\n",
    "На этом этапе у нас должен быть объект типа DataFrame или Series, где индекс - даты, а в значениях находится нужная информация. То есть временной ряд."
   ]
  },
  {
   "cell_type": "markdown",
   "metadata": {
    "id": "6LaMz5Kz17gQ"
   },
   "source": [
    "В данном блоке у нас должно быть от трёх до четырех подглав:    \n",
    "- Разделение датасета на тренировочную и тестовую (валидационную) выборки, проверка на статичность, построение графиков автокорреляции и частичной автокорреляции, разбивка на сезонность и тренд.\n",
    "- Применение 1 способа прогнозирования;\n",
    "- Применение 2 способа прогнозирования;\n",
    "- (Применение 3 способа прогнозирования); **По желанию**\n",
    "\n",
    "Первый пункт - разделение датасета - универсален, данные из него не нужно обновлять или заного рассчитывать.\n",
    "\n",
    "Остальные три пункта содержат примерно одинаковый алгоритм действий:    \n",
    "1. Описываем вкратце модель.\n",
    "2. Создаем модель.\n",
    "3. Обучаем модель.\n",
    "4. Создаем прогноз.\n",
    "5. Сравниваем прогноз и предсказание. \n",
    "6. Рассчитываем качество полученной модели и прогноза.\n",
    "7. Делаем выводы по прогнозу.\n",
    "\n",
    "\n",
    "Какие модели у нас есть:\n",
    "- В рамках курса мы рассмотрели модель ARIMA, её улучшенную версию SARIMA. Обязательно попробуйте использовать эту модель;\n",
    "- Модель экспаненционного сглаживающего среднего;\n",
    "- Модель Хольта-Винтерса.\n",
    "\n",
    "Последние 2 модели мы не изучали, поэтому можно попробовать использовать составные от модели ARIMA, которые мы рассматривали в лекции - AR, MA.\n",
    "\n",
    "После получения прогноза отобразите графики **прогноз vs факт**, чтобы визуально можно было посмотреть на то, как точно построен прогноз. \n",
    "\n",
    "Как понять, подходит ли модель. Попробуйте использовать следующие методы рассчета ошибки:\n",
    "- MAPE или средняя абсолютная ошибка в процентах.\n",
    "- RMSE - квадратный корень из среднеквадратичной ошибки.\n",
    "- MSE - среднеквадратичный корень (связан  с RMSE).\n",
    "\n",
    "В конце - сравните полученные метрики с ошибками и выберите ту модель, которая точнее всего создает прогноз.\n",
    "\n",
    "Ещё один важный момент - горизонт прогнозирования и сравнение прогноза с данными. Горизонт планирования нужно сделать небольшим - примерно 10-15 наблюдений (то есть 10-15 дней). И в ошибку нужно сравнивать с таким же числом наблюдений за тот же период по реальным данным!\n",
    "\n",
    "Также отмечу, что прогноз, скорее всего, будет не самым точным, а возможно, он совсем покажет что-то непонятное. С учетом того, насколько сложен процесс распространения коронавирусной инфекции, можно с уверенностью сказать, что обычный анализ временного ряда врядли даст очень хороший результат. Иначе бы у ученых-прогнозистов не было проблем с предзказанием коронавирусной инфекии 🙌."
   ]
  },
  {
   "cell_type": "markdown",
   "metadata": {
    "id": "gX7Ue2304viI"
   },
   "source": [
    "## Выводы"
   ]
  },
  {
   "cell_type": "markdown",
   "metadata": {
    "id": "wmuZ3A2_4vgF"
   },
   "source": [
    "В данном блоке опишите общие выводы по работе: что было сделано, что было получено. Помните, отрицательный результат - тоже результат. Поэтому указывайте информацию честно и беспристратно. "
   ]
  }
 ],
 "metadata": {
  "colab": {
   "collapsed_sections": [],
   "name": "Копия Копия блокнота \"Копия блокнота \"Шаблон_аттестация.ipynb\"\"",
   "provenance": []
  },
  "kernelspec": {
   "display_name": "Python 3",
   "language": "python",
   "name": "python3"
  },
  "language_info": {
   "codemirror_mode": {
    "name": "ipython",
    "version": 3
   },
   "file_extension": ".py",
   "mimetype": "text/x-python",
   "name": "python",
   "nbconvert_exporter": "python",
   "pygments_lexer": "ipython3",
   "version": "3.8.8"
  }
 },
 "nbformat": 4,
 "nbformat_minor": 1
}
